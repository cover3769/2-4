{
  "nbformat": 4,
  "nbformat_minor": 0,
  "metadata": {
    "colab": {
      "name": "第二學期",
      "provenance": [],
      "toc_visible": true,
      "authorship_tag": "ABX9TyOPWhd2ltHRCE1EYbv1CAeZ",
      "include_colab_link": true
    },
    "kernelspec": {
      "name": "python3",
      "display_name": "Python 3"
    }
  },
  "cells": [
    {
      "cell_type": "markdown",
      "metadata": {
        "id": "view-in-github",
        "colab_type": "text"
      },
      "source": [
        "<a href=\"https://colab.research.google.com/github/cover3769/2-4/blob/master/%E7%AC%AC%E4%BA%8C%E5%AD%B8%E6%9C%9F.ipynb\" target=\"_parent\"><img src=\"https://colab.research.google.com/assets/colab-badge.svg\" alt=\"Open In Colab\"/></a>"
      ]
    },
    {
      "cell_type": "markdown",
      "metadata": {
        "id": "xPjiSorHVlAy",
        "colab_type": "text"
      },
      "source": [
        "# **第二學期-1**"
      ]
    },
    {
      "cell_type": "code",
      "metadata": {
        "id": "IlrihgtLMtSz",
        "colab_type": "code",
        "outputId": "1b7c1878-0f20-4d40-d351-7ec6b7e4f91f",
        "colab": {
          "base_uri": "https://localhost:8080/",
          "height": 170
        }
      },
      "source": [
        "!pip install lineTool"
      ],
      "execution_count": 2,
      "outputs": [
        {
          "output_type": "stream",
          "text": [
            "Collecting lineTool\n",
            "  Downloading https://files.pythonhosted.org/packages/7a/29/7e96eef82de56d045e0016bbd7b7a41f597444ee0c7a38b0a5cdc6034a16/lineTool-1.0.3.tar.gz\n",
            "Building wheels for collected packages: lineTool\n",
            "  Building wheel for lineTool (setup.py) ... \u001b[?25l\u001b[?25hdone\n",
            "  Created wheel for lineTool: filename=lineTool-1.0.3-cp36-none-any.whl size=1465 sha256=7a797ea3ffb0dad6dd4c2e2be172446f19fb3cc8ea6f643145c7cd3a63e23a73\n",
            "  Stored in directory: /root/.cache/pip/wheels/65/ea/38/262d4b0f2edb028985f5a8b3914efd33119311e166f1e490f4\n",
            "Successfully built lineTool\n",
            "Installing collected packages: lineTool\n",
            "Successfully installed lineTool-1.0.3\n"
          ],
          "name": "stdout"
        }
      ]
    },
    {
      "cell_type": "code",
      "metadata": {
        "id": "2ka6P4JJNpMl",
        "colab_type": "code",
        "colab": {}
      },
      "source": [
        "import lineTool\n",
        "token=\"RyvAPomYuIG0crqTJFDCvKZZbkoKgvibjo6QxITozn8\"\n",
        "\n",
        "def linePush(msg):\n",
        "    lineTool.lineNotify(token, msg)"
      ],
      "execution_count": 0,
      "outputs": []
    },
    {
      "cell_type": "code",
      "metadata": {
        "id": "ilOM2p0bNpTT",
        "colab_type": "code",
        "colab": {}
      },
      "source": [
        "linePush(123)"
      ],
      "execution_count": 0,
      "outputs": []
    },
    {
      "cell_type": "code",
      "metadata": {
        "id": "S3FYz1yzXF14",
        "colab_type": "code",
        "colab": {}
      },
      "source": [
        ""
      ],
      "execution_count": 0,
      "outputs": []
    },
    {
      "cell_type": "markdown",
      "metadata": {
        "id": "Lwyxk_RCVsmG",
        "colab_type": "text"
      },
      "source": [
        "# **2-2**"
      ]
    },
    {
      "cell_type": "code",
      "metadata": {
        "id": "fZVpzpzTVzLV",
        "colab_type": "code",
        "outputId": "8ea6796d-5bd0-4bdc-b08a-7d7b25e6f020",
        "colab": {
          "base_uri": "https://localhost:8080/",
          "height": 318
        }
      },
      "source": [
        "import requests, os\n",
        " \n",
        "\"\"\"\n",
        "發送 Line Notify 訊息\n",
        "\"\"\"\n",
        "def lineNotify(token, msg, picURI):\n",
        "    url = \"https://notify-api.line.me/api/notify\"\n",
        "    headers = {\n",
        "        \"Authorization\": \"Bearer \" + token\n",
        "    }\n",
        "   \n",
        "    payload = {'message': msg}\n",
        "    files = {'imageFile': open(picURI, 'rb')}\n",
        "    r = requests.post(url, headers = headers, params = payload, files = files)\n",
        "    return r.status_code\n",
        " \n",
        " \n",
        "#token = os.environ[\"LINE_TEST_TOKEN\"]\n",
        "token=\"RyvAPomYuIG0crqTJFDCvKZZbkoKgvibjo6QxITozn8\"\n",
        "msg = \"Hello Python\"\n",
        "picURI = \"冰與炎.png\"\n",
        " \n",
        " \n",
        "lineNotify(token, msg, picURI)"
      ],
      "execution_count": 6,
      "outputs": [
        {
          "output_type": "error",
          "ename": "FileNotFoundError",
          "evalue": "ignored",
          "traceback": [
            "\u001b[0;31m---------------------------------------------------------------------------\u001b[0m",
            "\u001b[0;31mFileNotFoundError\u001b[0m                         Traceback (most recent call last)",
            "\u001b[0;32m<ipython-input-6-8dcb730fc56e>\u001b[0m in \u001b[0;36m<module>\u001b[0;34m()\u001b[0m\n\u001b[1;32m     22\u001b[0m \u001b[0;34m\u001b[0m\u001b[0m\n\u001b[1;32m     23\u001b[0m \u001b[0;34m\u001b[0m\u001b[0m\n\u001b[0;32m---> 24\u001b[0;31m \u001b[0mlineNotify\u001b[0m\u001b[0;34m(\u001b[0m\u001b[0mtoken\u001b[0m\u001b[0;34m,\u001b[0m \u001b[0mmsg\u001b[0m\u001b[0;34m,\u001b[0m \u001b[0mpicURI\u001b[0m\u001b[0;34m)\u001b[0m\u001b[0;34m\u001b[0m\u001b[0;34m\u001b[0m\u001b[0m\n\u001b[0m",
            "\u001b[0;32m<ipython-input-6-8dcb730fc56e>\u001b[0m in \u001b[0;36mlineNotify\u001b[0;34m(token, msg, picURI)\u001b[0m\n\u001b[1;32m     11\u001b[0m \u001b[0;34m\u001b[0m\u001b[0m\n\u001b[1;32m     12\u001b[0m     \u001b[0mpayload\u001b[0m \u001b[0;34m=\u001b[0m \u001b[0;34m{\u001b[0m\u001b[0;34m'message'\u001b[0m\u001b[0;34m:\u001b[0m \u001b[0mmsg\u001b[0m\u001b[0;34m}\u001b[0m\u001b[0;34m\u001b[0m\u001b[0;34m\u001b[0m\u001b[0m\n\u001b[0;32m---> 13\u001b[0;31m     \u001b[0mfiles\u001b[0m \u001b[0;34m=\u001b[0m \u001b[0;34m{\u001b[0m\u001b[0;34m'imageFile'\u001b[0m\u001b[0;34m:\u001b[0m \u001b[0mopen\u001b[0m\u001b[0;34m(\u001b[0m\u001b[0mpicURI\u001b[0m\u001b[0;34m,\u001b[0m \u001b[0;34m'rb'\u001b[0m\u001b[0;34m)\u001b[0m\u001b[0;34m}\u001b[0m\u001b[0;34m\u001b[0m\u001b[0;34m\u001b[0m\u001b[0m\n\u001b[0m\u001b[1;32m     14\u001b[0m     \u001b[0mr\u001b[0m \u001b[0;34m=\u001b[0m \u001b[0mrequests\u001b[0m\u001b[0;34m.\u001b[0m\u001b[0mpost\u001b[0m\u001b[0;34m(\u001b[0m\u001b[0murl\u001b[0m\u001b[0;34m,\u001b[0m \u001b[0mheaders\u001b[0m \u001b[0;34m=\u001b[0m \u001b[0mheaders\u001b[0m\u001b[0;34m,\u001b[0m \u001b[0mparams\u001b[0m \u001b[0;34m=\u001b[0m \u001b[0mpayload\u001b[0m\u001b[0;34m,\u001b[0m \u001b[0mfiles\u001b[0m \u001b[0;34m=\u001b[0m \u001b[0mfiles\u001b[0m\u001b[0;34m)\u001b[0m\u001b[0;34m\u001b[0m\u001b[0;34m\u001b[0m\u001b[0m\n\u001b[1;32m     15\u001b[0m     \u001b[0;32mreturn\u001b[0m \u001b[0mr\u001b[0m\u001b[0;34m.\u001b[0m\u001b[0mstatus_code\u001b[0m\u001b[0;34m\u001b[0m\u001b[0;34m\u001b[0m\u001b[0m\n",
            "\u001b[0;31mFileNotFoundError\u001b[0m: [Errno 2] No such file or directory: '冰與炎.png'"
          ]
        }
      ]
    },
    {
      "cell_type": "markdown",
      "metadata": {
        "id": "r8jkXSQRbZfX",
        "colab_type": "text"
      },
      "source": [
        "# **2-3**"
      ]
    },
    {
      "cell_type": "code",
      "metadata": {
        "id": "w6tjiTdefMRR",
        "colab_type": "code",
        "outputId": "31ea40d7-1edd-43ea-b89a-3eae8f3b7492",
        "colab": {
          "base_uri": "https://localhost:8080/",
          "height": 34
        }
      },
      "source": [
        "!git clone https://github.com/cover3769/picture1.git"
      ],
      "execution_count": 0,
      "outputs": [
        {
          "output_type": "stream",
          "text": [
            "fatal: destination path 'picture1' already exists and is not an empty directory.\n"
          ],
          "name": "stdout"
        }
      ]
    },
    {
      "cell_type": "code",
      "metadata": {
        "id": "8sD6mGxtceBf",
        "colab_type": "code",
        "outputId": "7c2181cc-fc80-4a59-ad62-5caab65688e3",
        "colab": {
          "base_uri": "https://localhost:8080/",
          "height": 318
        }
      },
      "source": [
        "import requests, os\n",
        " \n",
        "\"\"\"\n",
        "發送 Line Notify 訊息\n",
        "\"\"\"\n",
        "def lineNotify(token, msg, picURI):\n",
        "    url = \"https://notify-api.line.me/api/notify\"\n",
        "    headers = {\n",
        "        \"Authorization\": \"Bearer \" + token\n",
        "    }\n",
        "   \n",
        "    payload = {'message': msg}\n",
        "    files = {'imageFile': open(picURI, 'rb')}\n",
        "    r = requests.post(url, headers = headers, params = payload, files = files)\n",
        "    return r.status_code\n",
        " \n",
        " \n",
        "#token = os.environ[\"LINE_TEST_TOKEN\"]\n",
        "token=\"RyvAPomYuIG0crqTJFDCvKZZbkoKgvibjo6QxITozn8\"\n",
        "msg = \"Hey Python\"\n",
        "picURI = \"123.jpg\"\n",
        " \n",
        " \n",
        "lineNotify(token, msg, picURI)"
      ],
      "execution_count": 0,
      "outputs": [
        {
          "output_type": "error",
          "ename": "FileNotFoundError",
          "evalue": "ignored",
          "traceback": [
            "\u001b[0;31m---------------------------------------------------------------------------\u001b[0m",
            "\u001b[0;31mFileNotFoundError\u001b[0m                         Traceback (most recent call last)",
            "\u001b[0;32m<ipython-input-26-5212b24dce68>\u001b[0m in \u001b[0;36m<module>\u001b[0;34m()\u001b[0m\n\u001b[1;32m     22\u001b[0m \u001b[0;34m\u001b[0m\u001b[0m\n\u001b[1;32m     23\u001b[0m \u001b[0;34m\u001b[0m\u001b[0m\n\u001b[0;32m---> 24\u001b[0;31m \u001b[0mlineNotify\u001b[0m\u001b[0;34m(\u001b[0m\u001b[0mtoken\u001b[0m\u001b[0;34m,\u001b[0m \u001b[0mmsg\u001b[0m\u001b[0;34m,\u001b[0m \u001b[0mpicURI\u001b[0m\u001b[0;34m)\u001b[0m\u001b[0;34m\u001b[0m\u001b[0;34m\u001b[0m\u001b[0m\n\u001b[0m",
            "\u001b[0;32m<ipython-input-26-5212b24dce68>\u001b[0m in \u001b[0;36mlineNotify\u001b[0;34m(token, msg, picURI)\u001b[0m\n\u001b[1;32m     11\u001b[0m \u001b[0;34m\u001b[0m\u001b[0m\n\u001b[1;32m     12\u001b[0m     \u001b[0mpayload\u001b[0m \u001b[0;34m=\u001b[0m \u001b[0;34m{\u001b[0m\u001b[0;34m'message'\u001b[0m\u001b[0;34m:\u001b[0m \u001b[0mmsg\u001b[0m\u001b[0;34m}\u001b[0m\u001b[0;34m\u001b[0m\u001b[0;34m\u001b[0m\u001b[0m\n\u001b[0;32m---> 13\u001b[0;31m     \u001b[0mfiles\u001b[0m \u001b[0;34m=\u001b[0m \u001b[0;34m{\u001b[0m\u001b[0;34m'imageFile'\u001b[0m\u001b[0;34m:\u001b[0m \u001b[0mopen\u001b[0m\u001b[0;34m(\u001b[0m\u001b[0mpicURI\u001b[0m\u001b[0;34m,\u001b[0m \u001b[0;34m'rb'\u001b[0m\u001b[0;34m)\u001b[0m\u001b[0;34m}\u001b[0m\u001b[0;34m\u001b[0m\u001b[0;34m\u001b[0m\u001b[0m\n\u001b[0m\u001b[1;32m     14\u001b[0m     \u001b[0mr\u001b[0m \u001b[0;34m=\u001b[0m \u001b[0mrequests\u001b[0m\u001b[0;34m.\u001b[0m\u001b[0mpost\u001b[0m\u001b[0;34m(\u001b[0m\u001b[0murl\u001b[0m\u001b[0;34m,\u001b[0m \u001b[0mheaders\u001b[0m \u001b[0;34m=\u001b[0m \u001b[0mheaders\u001b[0m\u001b[0;34m,\u001b[0m \u001b[0mparams\u001b[0m \u001b[0;34m=\u001b[0m \u001b[0mpayload\u001b[0m\u001b[0;34m,\u001b[0m \u001b[0mfiles\u001b[0m \u001b[0;34m=\u001b[0m \u001b[0mfiles\u001b[0m\u001b[0;34m)\u001b[0m\u001b[0;34m\u001b[0m\u001b[0;34m\u001b[0m\u001b[0m\n\u001b[1;32m     15\u001b[0m     \u001b[0;32mreturn\u001b[0m \u001b[0mr\u001b[0m\u001b[0;34m.\u001b[0m\u001b[0mstatus_code\u001b[0m\u001b[0;34m\u001b[0m\u001b[0;34m\u001b[0m\u001b[0m\n",
            "\u001b[0;31mFileNotFoundError\u001b[0m: [Errno 2] No such file or directory: 'picture, 123.jpg'"
          ]
        }
      ]
    },
    {
      "cell_type": "markdown",
      "metadata": {
        "id": "M4Y70GMOM67A",
        "colab_type": "text"
      },
      "source": [
        "# **2-4**"
      ]
    },
    {
      "cell_type": "code",
      "metadata": {
        "id": "xnFqe3RjM-KW",
        "colab_type": "code",
        "colab": {}
      },
      "source": [
        ""
      ],
      "execution_count": 0,
      "outputs": []
    }
  ]
}